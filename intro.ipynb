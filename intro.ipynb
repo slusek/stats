{
 "cells": [
  {
   "cell_type": "code",
   "execution_count": 1,
   "id": "sudden-adrian",
   "metadata": {},
   "outputs": [],
   "source": [
    "import pandas as pd"
   ]
  },
  {
   "cell_type": "markdown",
   "id": "studied-enzyme",
   "metadata": {},
   "source": [
    "Importuję dane"
   ]
  },
  {
   "cell_type": "code",
   "execution_count": 19,
   "id": "reverse-backing",
   "metadata": {},
   "outputs": [],
   "source": [
    "dane = pd.read_excel('Sprzedaż.xlsx')"
   ]
  },
  {
   "cell_type": "markdown",
   "id": "nominated-library",
   "metadata": {},
   "source": [
    "Opis zaimportowanych danych"
   ]
  },
  {
   "cell_type": "code",
   "execution_count": 20,
   "id": "generic-vintage",
   "metadata": {},
   "outputs": [
    {
     "name": "stdout",
     "output_type": "stream",
     "text": [
      "<class 'pandas.core.frame.DataFrame'>\n",
      "RangeIndex: 47 entries, 0 to 46\n",
      "Data columns (total 6 columns):\n",
      " #   Column   Non-Null Count  Dtype \n",
      "---  ------   --------------  ----- \n",
      " 0   Produkt  47 non-null     object\n",
      " 1   Kraj     47 non-null     object\n",
      " 2   Liczba   47 non-null     int64 \n",
      " 3   Kwota    47 non-null     int64 \n",
      " 4   Karta    47 non-null     object\n",
      " 5   ID       47 non-null     object\n",
      "dtypes: int64(2), object(4)\n",
      "memory usage: 2.3+ KB\n"
     ]
    }
   ],
   "source": [
    "dane.info()"
   ]
  },
  {
   "cell_type": "markdown",
   "id": "surrounded-china",
   "metadata": {},
   "source": [
    "Podstawowe statystyki pozycyjne"
   ]
  },
  {
   "cell_type": "code",
   "execution_count": 22,
   "id": "derived-spread",
   "metadata": {},
   "outputs": [
    {
     "data": {
      "text/html": [
       "<div>\n",
       "<style scoped>\n",
       "    .dataframe tbody tr th:only-of-type {\n",
       "        vertical-align: middle;\n",
       "    }\n",
       "\n",
       "    .dataframe tbody tr th {\n",
       "        vertical-align: top;\n",
       "    }\n",
       "\n",
       "    .dataframe thead th {\n",
       "        text-align: right;\n",
       "    }\n",
       "</style>\n",
       "<table border=\"1\" class=\"dataframe\">\n",
       "  <thead>\n",
       "    <tr style=\"text-align: right;\">\n",
       "      <th></th>\n",
       "      <th>Liczba</th>\n",
       "      <th>Kwota</th>\n",
       "    </tr>\n",
       "  </thead>\n",
       "  <tbody>\n",
       "    <tr>\n",
       "      <th>count</th>\n",
       "      <td>47.000000</td>\n",
       "      <td>47.000000</td>\n",
       "    </tr>\n",
       "    <tr>\n",
       "      <th>mean</th>\n",
       "      <td>6.617021</td>\n",
       "      <td>347.553191</td>\n",
       "    </tr>\n",
       "    <tr>\n",
       "      <th>std</th>\n",
       "      <td>6.357307</td>\n",
       "      <td>415.842351</td>\n",
       "    </tr>\n",
       "    <tr>\n",
       "      <th>min</th>\n",
       "      <td>1.000000</td>\n",
       "      <td>35.000000</td>\n",
       "    </tr>\n",
       "    <tr>\n",
       "      <th>25%</th>\n",
       "      <td>2.000000</td>\n",
       "      <td>75.000000</td>\n",
       "    </tr>\n",
       "    <tr>\n",
       "      <th>50%</th>\n",
       "      <td>5.000000</td>\n",
       "      <td>175.000000</td>\n",
       "    </tr>\n",
       "    <tr>\n",
       "      <th>75%</th>\n",
       "      <td>10.000000</td>\n",
       "      <td>392.500000</td>\n",
       "    </tr>\n",
       "    <tr>\n",
       "      <th>max</th>\n",
       "      <td>25.000000</td>\n",
       "      <td>1600.000000</td>\n",
       "    </tr>\n",
       "  </tbody>\n",
       "</table>\n",
       "</div>"
      ],
      "text/plain": [
       "          Liczba        Kwota\n",
       "count  47.000000    47.000000\n",
       "mean    6.617021   347.553191\n",
       "std     6.357307   415.842351\n",
       "min     1.000000    35.000000\n",
       "25%     2.000000    75.000000\n",
       "50%     5.000000   175.000000\n",
       "75%    10.000000   392.500000\n",
       "max    25.000000  1600.000000"
      ]
     },
     "execution_count": 22,
     "metadata": {},
     "output_type": "execute_result"
    }
   ],
   "source": [
    "dane.describe()"
   ]
  },
  {
   "cell_type": "markdown",
   "id": "rubber-daughter",
   "metadata": {},
   "source": [
    "Histogram dla Kwoty (wykres częstości)"
   ]
  },
  {
   "cell_type": "code",
   "execution_count": 26,
   "id": "chubby-hazard",
   "metadata": {},
   "outputs": [
    {
     "data": {
      "text/plain": [
       "<AxesSubplot:>"
      ]
     },
     "execution_count": 26,
     "metadata": {},
     "output_type": "execute_result"
    },
    {
     "data": {
      "image/png": "[encoded data removed]",
      "text/plain": [
       "<Figure size 432x288 with 1 Axes>"
      ]
     },
     "metadata": {
      "needs_background": "light"
     },
     "output_type": "display_data"
    }
   ],
   "source": [
    "dane.Kwota.hist()"
   ]
  },
  {
   "cell_type": "markdown",
   "id": "american-armenia",
   "metadata": {},
   "source": [
    "Macierz korelacji dla zmiennych"
   ]
  },
  {
   "cell_type": "code",
   "execution_count": 27,
   "id": "legislative-interaction",
   "metadata": {},
   "outputs": [
    {
     "data": {
      "text/html": [
       "<div>\n",
       "<style scoped>\n",
       "    .dataframe tbody tr th:only-of-type {\n",
       "        vertical-align: middle;\n",
       "    }\n",
       "\n",
       "    .dataframe tbody tr th {\n",
       "        vertical-align: top;\n",
       "    }\n",
       "\n",
       "    .dataframe thead th {\n",
       "        text-align: right;\n",
       "    }\n",
       "</style>\n",
       "<table border=\"1\" class=\"dataframe\">\n",
       "  <thead>\n",
       "    <tr style=\"text-align: right;\">\n",
       "      <th></th>\n",
       "      <th>Liczba</th>\n",
       "      <th>Kwota</th>\n",
       "    </tr>\n",
       "  </thead>\n",
       "  <tbody>\n",
       "    <tr>\n",
       "      <th>Liczba</th>\n",
       "      <td>1.000000</td>\n",
       "      <td>0.895143</td>\n",
       "    </tr>\n",
       "    <tr>\n",
       "      <th>Kwota</th>\n",
       "      <td>0.895143</td>\n",
       "      <td>1.000000</td>\n",
       "    </tr>\n",
       "  </tbody>\n",
       "</table>\n",
       "</div>"
      ],
      "text/plain": [
       "          Liczba     Kwota\n",
       "Liczba  1.000000  0.895143\n",
       "Kwota   0.895143  1.000000"
      ]
     },
     "execution_count": 27,
     "metadata": {},
     "output_type": "execute_result"
    }
   ],
   "source": [
    "dane.corr()"
   ]
  },
  {
   "cell_type": "markdown",
   "id": "proper-newman",
   "metadata": {},
   "source": [
    "Standaryzacja zmiennej Kwota\n",
    "\n",
    "$Kwota_Z = \\frac{Kwota-\\mu}{\\sigma}$"
   ]
  },
  {
   "cell_type": "code",
   "execution_count": 31,
   "id": "adjusted-edwards",
   "metadata": {},
   "outputs": [],
   "source": [
    "dane['Kwota_Z'] = (dane['Kwota'] - dane['Kwota'].mean()) / dane['Kwota'].std()"
   ]
  },
  {
   "cell_type": "code",
   "execution_count": 32,
   "id": "objective-execution",
   "metadata": {},
   "outputs": [
    {
     "data": {
      "text/plain": [
       "<AxesSubplot:>"
      ]
     },
     "execution_count": 32,
     "metadata": {},
     "output_type": "execute_result"
    },
    {
     "data": {
      "image/png": "[encoded data removed]",
      "text/plain": [
       "<Figure size 432x288 with 1 Axes>"
      ]
     },
     "metadata": {
      "needs_background": "light"
     },
     "output_type": "display_data"
    }
   ],
   "source": [
    "dane.Kwota_Z.hist()"
   ]
  },
  {
   "cell_type": "code",
   "execution_count": null,
   "id": "magnetic-appointment",
   "metadata": {},
   "outputs": [],
   "source": []
  }
 ],
 "metadata": {
  "kernelspec": {
   "display_name": "Python 3",
   "language": "python",
   "name": "python3"
  },
  "language_info": {
   "codemirror_mode": {
    "name": "ipython",
    "version": 3
   },
   "file_extension": ".py",
   "mimetype": "text/x-python",
   "name": "python",
   "nbconvert_exporter": "python",
   "pygments_lexer": "ipython3",
   "version": "3.7.6"
  }
 },
 "nbformat": 4,
 "nbformat_minor": 5
}
